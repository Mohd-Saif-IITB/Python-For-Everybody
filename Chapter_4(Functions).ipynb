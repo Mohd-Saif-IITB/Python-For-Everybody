{
  "nbformat": 4,
  "nbformat_minor": 0,
  "metadata": {
    "colab": {
      "name": "Chapter_4(Functions).ipynb",
      "provenance": [],
      "collapsed_sections": [],
      "authorship_tag": "ABX9TyOa2EOaBf+nqgVLLrNVwRxk",
      "include_colab_link": true
    },
    "kernelspec": {
      "name": "python3",
      "display_name": "Python 3"
    },
    "language_info": {
      "name": "python"
    }
  },
  "cells": [
    {
      "cell_type": "markdown",
      "metadata": {
        "id": "view-in-github",
        "colab_type": "text"
      },
      "source": [
        "<a href=\"https://colab.research.google.com/github/Mohd-Saif-IITB/Python-For-Everybody/blob/main/Chapter_4(Functions).ipynb\" target=\"_parent\"><img src=\"https://colab.research.google.com/assets/colab-badge.svg\" alt=\"Open In Colab\"/></a>"
      ]
    },
    {
      "cell_type": "markdown",
      "source": [
        "**Exercise 6: Rewrite your pay computation with time-and-a-half for over-\n",
        "time and create a function called computepay which takes two parameters\n",
        "(hours and rate).**\n",
        "\n",
        "Enter Hours: 45\n",
        "\n",
        "Enter Rate: 10\n",
        "\n",
        "Pay: 475.0"
      ],
      "metadata": {
        "id": "SwMlPPx48ujC"
      }
    },
    {
      "cell_type": "code",
      "source": [
        "def computepay():\n",
        "  hrs=input('Enter Hours:')\n",
        "  hours=float(hrs)\n",
        "  rte=input('Enter Rate:')\n",
        "  rate=float(rte)\n",
        "  overtime=(hours-40)*(1.5*rate)\n",
        "  pay=(40*rate)+overtime\n",
        "  print('Pay:',pay)\n",
        "computepay()"
      ],
      "metadata": {
        "colab": {
          "base_uri": "https://localhost:8080/"
        },
        "id": "2Lm5Dmt89ETp",
        "outputId": "7a7ee670-b096-4440-d1d2-c0c8b27a23b7"
      },
      "execution_count": null,
      "outputs": [
        {
          "output_type": "stream",
          "name": "stdout",
          "text": [
            "Enter Hours:45\n",
            "Enter Rate:10\n",
            "Pay: 475.0\n"
          ]
        }
      ]
    },
    {
      "cell_type": "markdown",
      "source": [
        "**Exercise 7: Rewrite the grade program from the previous chapter using\n",
        "a function called computegrade that takes a score as its parameter and\n",
        "returns a grade as a string.**\n",
        "\n",
        "Score Grade\n",
        "\n",
        "(>= 0.9) A\n",
        "\n",
        "(>= 0.8) B\n",
        "\n",
        "(>= 0.7) C\n",
        "\n",
        "(>= 0.6) D\n",
        "\n",
        "(< 0.6) F\n",
        "\n",
        "Enter score: 0.95\n",
        "\n",
        "A\n",
        "\n",
        "Enter score: perfect\n",
        "\n",
        "Bad score\n",
        "\n",
        "Enter score: 10.0\n",
        "\n",
        "Bad score\n",
        "\n",
        "Enter score: 0.75\n",
        "\n",
        "C\n",
        "\n",
        "Enter score: 0.5\n",
        "\n",
        "F\n",
        "\n",
        "Run the program repeatedly to test the various different values for input."
      ],
      "metadata": {
        "id": "w5wgvy3P_Fth"
      }
    },
    {
      "cell_type": "code",
      "source": [
        "def computegrade():\n",
        "  score=input('Enter score:')\n",
        "  try:\n",
        "    score=float(score)\n",
        "  except:\n",
        "    print('Bad score')\n",
        "    quit()\n",
        "  \n",
        "  if 1.0>score>=0.9:\n",
        "    print('A')\n",
        "  elif 0.9>score>=0.8:\n",
        "    print('B')\n",
        "  elif 0.8>score>=0.7:\n",
        "    print('C')\n",
        "  elif 0.7>score>=0.6:\n",
        "    print('D')\n",
        "  elif 0.0<score<0.6:\n",
        "    print('F')\n",
        "  else:\n",
        "    print('Bad score')\n",
        "computegrade()"
      ],
      "metadata": {
        "colab": {
          "base_uri": "https://localhost:8080/"
        },
        "id": "vjgcP4TR-mW7",
        "outputId": "bfe4f01e-f625-4a48-e552-772159efa122"
      },
      "execution_count": null,
      "outputs": [
        {
          "output_type": "stream",
          "name": "stdout",
          "text": [
            "Enter score:0.95\n",
            "A\n"
          ]
        }
      ]
    },
    {
      "cell_type": "code",
      "source": [
        ""
      ],
      "metadata": {
        "id": "kSvn6zQzUlI7"
      },
      "execution_count": null,
      "outputs": []
    }
  ]
}