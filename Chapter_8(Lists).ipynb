{
  "nbformat": 4,
  "nbformat_minor": 0,
  "metadata": {
    "colab": {
      "name": "Chapter_8(Lists).ipynb",
      "provenance": [],
      "collapsed_sections": [],
      "authorship_tag": "ABX9TyNQJUZxje5GASAE40AKaXHg",
      "include_colab_link": true
    },
    "kernelspec": {
      "name": "python3",
      "display_name": "Python 3"
    },
    "language_info": {
      "name": "python"
    }
  },
  "cells": [
    {
      "cell_type": "markdown",
      "metadata": {
        "id": "view-in-github",
        "colab_type": "text"
      },
      "source": [
        "<a href=\"https://colab.research.google.com/github/Mohd-Saif-IITB/Python-For-Everybody/blob/main/Chapter_8(Lists).ipynb\" target=\"_parent\"><img src=\"https://colab.research.google.com/assets/colab-badge.svg\" alt=\"Open In Colab\"/></a>"
      ]
    },
    {
      "cell_type": "markdown",
      "source": [
        "**Exercise 1: Write a function called chop that takes a list and modifies\n",
        "it, removing the first and last elements, and returns None. Then write\n",
        "a function called middle that takes a list and returns a new list that\n",
        "contains all but the first and last elements.**"
      ],
      "metadata": {
        "id": "eP0VBLDleztd"
      }
    },
    {
      "cell_type": "code",
      "source": [
        "def chop(t):\n",
        "  del t[0]\n",
        "  del t[-1]\n",
        "  return None\n",
        "list=['a','b','c','d']\n",
        "print(chop(list))\n",
        "\n",
        "def middle(t):\n",
        "  del t[0]\n",
        "  del t[-1]\n",
        "  return(t)\n",
        "list=['a','b','c','d']\n",
        "middle(list)\n",
        "print(list)"
      ],
      "metadata": {
        "colab": {
          "base_uri": "https://localhost:8080/"
        },
        "id": "98ihqw-JfPyY",
        "outputId": "f064a1b9-3c80-4f7b-cd4f-9dca8ae8dba3"
      },
      "execution_count": null,
      "outputs": [
        {
          "output_type": "stream",
          "name": "stdout",
          "text": [
            "None\n",
            "['b', 'c']\n"
          ]
        }
      ]
    },
    {
      "cell_type": "markdown",
      "source": [
        "**Exercise 2: Figure out which line of the above program is still not\n",
        "properly guarded. See if you can construct a text file which causes the\n",
        "program to fail and then modify the program so that the line is properly\n",
        "guarded and test it to make sure it handles your new text file.**"
      ],
      "metadata": {
        "id": "BFikXdXlfQUk"
      }
    },
    {
      "cell_type": "code",
      "source": [
        "fhand = open('mbox-short.txt')\n",
        "count = 0\n",
        "for line in fhand:\n",
        "  words = line.split()\n",
        "# print('Debug:', words)\n",
        "  if len(words) == 0 : continue #not properly guarded\n",
        "  if words[0] != 'From' : continue\n",
        "  print(words[2]) #printing the day name\n",
        "\n"
      ],
      "metadata": {
        "id": "eSKA-HEDfacH"
      },
      "execution_count": null,
      "outputs": []
    },
    {
      "cell_type": "code",
      "source": [
        "fhand = open('mbox-short.txt')\n",
        "count = 0\n",
        "for line in fhand:\n",
        "  words = line.split()\n",
        "# print('Debug:', words)\n",
        "  if len(words) <3 : continue #properly guarded\n",
        "  if words[0] != 'From' : continue\n",
        "  print(words[2]) #printing the day name"
      ],
      "metadata": {
        "id": "fMN6muefL_bp"
      },
      "execution_count": null,
      "outputs": []
    },
    {
      "cell_type": "markdown",
      "source": [
        "**Exercise 3: Rewrite the guardian code in the above example without\n",
        "two if statements. Instead, use a compound logical expression using\n",
        "the or logical operator with a single if statement.**"
      ],
      "metadata": {
        "id": "F37_vFwRfa18"
      }
    },
    {
      "cell_type": "code",
      "source": [
        "fhand = open('mbox-short.txt')\n",
        "count = 0\n",
        "for line in fhand:\n",
        "  words = line.split()\n",
        "# print('Debug:', words)\n",
        "  if len(words) <3 or words[0] != 'From' : continue #single line code using only one 'if and 'or' function\n",
        "  print(words[2])\n",
        "\n"
      ],
      "metadata": {
        "id": "jBWS919Xf4DN"
      },
      "execution_count": null,
      "outputs": []
    },
    {
      "cell_type": "markdown",
      "source": [
        "**Exercise 4: Find all unique words in a file\n",
        "Shakespeare used over 20,000 words in his works. But how would you\n",
        "determine that? How would you produce the list of all the words that\n",
        "Shakespeare used? Would you download all his work, read it and track\n",
        "all unique words by hand?**\n",
        "\n",
        "Let’s use Python to achieve that instead. List all unique words, sorted\n",
        "in alphabetical order, that are stored in a file romeo.txt containing a\n",
        "subset of Shakespeare’s work.\n",
        "\n",
        "To get started, download a copy of the file www.py4e.com/code3/romeo.txt.\n",
        "Create a list of unique words, which will contain the final result. Write\n",
        "a program to open the file romeo.txt and read it line by line. For each\n",
        "line, split the line into a list of words using the split function. For\n",
        "each word, check to see if the word is already in the list of unique\n",
        "words. If the word is not in the list of unique words, add it to the list.\n",
        "When the program completes, sort and print the list of unique words\n",
        "in alphabetical order.\n",
        "\n",
        "Enter file: romeo.txt\n",
        "\n",
        "['Arise', 'But', 'It', 'Juliet', 'Who', 'already',\n",
        "'and', 'breaks', 'east', 'envious', 'fair', 'grief',\n",
        "'is', 'kill', 'light', 'moon', 'pale', 'sick', 'soft',\n",
        "'sun', 'the', 'through', 'what', 'window',\n",
        "'with', 'yonder']"
      ],
      "metadata": {
        "id": "oVnCk_Mff0lg"
      }
    },
    {
      "cell_type": "code",
      "source": [
        "# fname=input('Enter file:')\n",
        "fhand=open('romeo.txt','r')\n",
        "unique=[]\n",
        "\n",
        "for line in fhand: \n",
        "   words =line.split()\n",
        "   if words not in unique:  \n",
        "      unique+=words\n",
        "\n",
        "print(sorted(unique)) #need to fix this result."
      ],
      "metadata": {
        "colab": {
          "base_uri": "https://localhost:8080/"
        },
        "id": "vQMkHMoDfxrB",
        "outputId": "2e71a9d8-52d5-4535-8d46-34f85674fd13"
      },
      "execution_count": null,
      "outputs": [
        {
          "output_type": "stream",
          "name": "stdout",
          "text": [
            "['Arise', 'But', 'It', 'Juliet', 'Who', 'already', 'and', 'and', 'and', 'breaks', 'east', 'envious', 'fair', 'grief', 'is', 'is', 'is', 'kill', 'light', 'moon', 'pale', 'sick', 'soft', 'sun', 'sun', 'the', 'the', 'the', 'through', 'what', 'window', 'with', 'yonder']\n"
          ]
        }
      ]
    },
    {
      "cell_type": "markdown",
      "source": [
        "**Exercise 5: Minimalist Email Client.\n",
        "MBOX (mail box) is a popular file format to store and share a collection\n",
        "of emails. This was used by early email servers and desktop apps.\n",
        "Without getting into too many details, MBOX is a text file, which\n",
        "stores emails consecutively. Emails are separated by a special line which\n",
        "starts with From (notice the space). Importantly, lines starting with\n",
        "From: (notice the colon) describes the email itself and does not act as\n",
        "a separator. Imagine you wrote a minimalist email app, that lists the\n",
        "email of the senders in the user’s Inbox and counts the number of emails.\n",
        "Write a program to read through the mail box data and when you find\n",
        "line that starts with “From”, you will split the line into words using the\n",
        "split function. We are interested in who sent the message, which is the\n",
        "second word on the From line.**\n",
        "\n",
        "From stephen.marquard@uct.ac.za Sat Jan 5 09:14:16 2008\n",
        "\n",
        "You will parse the From line and print out the second word for each\n",
        "From line, then you will also count the number of From (not From:)\n",
        "lines and print out a count at the end. This is a good sample output\n",
        "with a few lines removed:\n",
        "\n",
        "python fromcount.py\n",
        "\n",
        "Enter a file name: mbox-short.txt\n",
        "\n",
        "stephen.marquard@uct.ac.za\n",
        "\n",
        "louis@media.berkeley.edu\n",
        "\n",
        "zqian@umich.edu\n",
        "\n",
        "[...some output removed...]\n",
        "\n",
        "ray@media.berkeley.edu\n",
        "\n",
        "cwen@iupui.edu\n",
        "\n",
        "cwen@iupui.edu\n",
        "\n",
        "cwen@iupui.edu\n",
        "\n",
        "There were 27 lines in the file with From as the first word"
      ],
      "metadata": {
        "id": "-AEqoQPuf4sH"
      }
    },
    {
      "cell_type": "code",
      "source": [
        "fname=input('Enter a file name:')\n",
        "fhand=open(fname,'r')\n",
        "count=0\n",
        "for line in fhand:\n",
        "  line=line.rstrip()\n",
        "  words=line.split()\n",
        "  if len(words)<2 or words[0]!='From':\n",
        "    continue\n",
        "  count+=1\n",
        "\n",
        "  print(words[1])\n",
        "print('There were',count,'lines in the file with From as the first word')"
      ],
      "metadata": {
        "colab": {
          "base_uri": "https://localhost:8080/"
        },
        "id": "CR4foeczgdjV",
        "outputId": "444ec95b-c239-4389-f52b-62c0e038665d"
      },
      "execution_count": null,
      "outputs": [
        {
          "output_type": "stream",
          "name": "stdout",
          "text": [
            "Enter a file name:mbox-short.txt\n",
            "stephen.marquard@uct.ac.za\n",
            "louis@media.berkeley.edu\n",
            "zqian@umich.edu\n",
            "rjlowe@iupui.edu\n",
            "zqian@umich.edu\n",
            "rjlowe@iupui.edu\n",
            "cwen@iupui.edu\n",
            "cwen@iupui.edu\n",
            "gsilver@umich.edu\n",
            "gsilver@umich.edu\n",
            "zqian@umich.edu\n",
            "gsilver@umich.edu\n",
            "wagnermr@iupui.edu\n",
            "zqian@umich.edu\n",
            "antranig@caret.cam.ac.uk\n",
            "gopal.ramasammycook@gmail.com\n",
            "david.horwitz@uct.ac.za\n",
            "david.horwitz@uct.ac.za\n",
            "david.horwitz@uct.ac.za\n",
            "david.horwitz@uct.ac.za\n",
            "stephen.marquard@uct.ac.za\n",
            "louis@media.berkeley.edu\n",
            "louis@media.berkeley.edu\n",
            "ray@media.berkeley.edu\n",
            "cwen@iupui.edu\n",
            "cwen@iupui.edu\n",
            "cwen@iupui.edu\n",
            "There were 27 lines in the file with From as the first word\n"
          ]
        }
      ]
    },
    {
      "cell_type": "markdown",
      "source": [
        "**Exercise 6: Rewrite the program that prompts the user for a list of\n",
        "numbers and prints out the maximum and minimum of the numbers at\n",
        "the end when the user enters “done”. Write the program to store the\n",
        "numbers the user enters in a list and use the max() and min() functions to\n",
        "compute the maximum and minimum numbers after the loop completes.**\n",
        "\n",
        "Enter a number: 6\n",
        "\n",
        "Enter a number: 2\n",
        "\n",
        "Enter a number: 9\n",
        "\n",
        "Enter a number: 3\n",
        "\n",
        "Enter a number: 5\n",
        "\n",
        "Enter a number: done\n",
        "\n",
        "Maximum: 9.0\n",
        "\n",
        "Minimum: 2.0"
      ],
      "metadata": {
        "id": "9VYHeJGhgeFV"
      }
    },
    {
      "cell_type": "code",
      "source": [
        "list=[]\n",
        "\n",
        "while True:\n",
        "  num=input('Enter a number:')\n",
        "  if num!='done':\n",
        "    list+=num\n",
        "  if num=='done':\n",
        "    break\n",
        "print(list)\n",
        "print('Maximum:',float(max(list)))\n",
        "print('Minimum:',float(min(list)))\n",
        " "
      ],
      "metadata": {
        "colab": {
          "base_uri": "https://localhost:8080/"
        },
        "id": "l74fsyXrgrJC",
        "outputId": "16e9142a-3b08-411e-ed0f-6ac40b1a7858"
      },
      "execution_count": null,
      "outputs": [
        {
          "output_type": "stream",
          "name": "stdout",
          "text": [
            "Enter a number:6\n",
            "Enter a number:\n",
            "Enter a number:2\n",
            "Enter a number:9\n",
            "Enter a number:3\n",
            "Enter a number:5\n",
            "Enter a number:done\n",
            "['6', '2', '9', '3', '5']\n",
            "Maximum: 9.0\n",
            "Minimum: 2.0\n"
          ]
        }
      ]
    }
  ]
}