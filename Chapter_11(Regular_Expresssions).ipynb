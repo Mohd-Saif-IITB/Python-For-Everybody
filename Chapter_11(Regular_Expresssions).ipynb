{
  "nbformat": 4,
  "nbformat_minor": 0,
  "metadata": {
    "colab": {
      "name": "Chapter_11(Regular Expresssions).ipynb",
      "provenance": [],
      "collapsed_sections": [],
      "authorship_tag": "ABX9TyMpsWBofxyAAjeLxy1s/KBq",
      "include_colab_link": true
    },
    "kernelspec": {
      "name": "python3",
      "display_name": "Python 3"
    },
    "language_info": {
      "name": "python"
    }
  },
  "cells": [
    {
      "cell_type": "markdown",
      "metadata": {
        "id": "view-in-github",
        "colab_type": "text"
      },
      "source": [
        "<a href=\"https://colab.research.google.com/github/Mohd-Saif-IITB/Python-For-Everybody/blob/main/Chapter_11(Regular_Expresssions).ipynb\" target=\"_parent\"><img src=\"https://colab.research.google.com/assets/colab-badge.svg\" alt=\"Open In Colab\"/></a>"
      ]
    },
    {
      "cell_type": "markdown",
      "source": [
        "**Exercise 1: Write a simple program to simulate the operation of the\n",
        "grep command on Unix. Ask the user to enter a regular expression and\n",
        "count the number of lines that matched the regular expression:**\n",
        "\n",
        "$ python grep.py\n",
        "\n",
        "Enter a regular expression: ^Author\n",
        "\n",
        "mbox.txt had 1798 lines that matched ^Author\n",
        "\n",
        "$ python grep.py\n",
        "\n",
        "Enter a regular expression: ^X\n",
        "\n",
        "mbox.txt had 14368 lines that matched ^X-\n",
        "\n",
        "$ python grep.py\n",
        "\n",
        "Enter a regular expression: java$\n",
        "\n",
        "mbox.txt had 4175 lines that matched java$"
      ],
      "metadata": {
        "id": "jU9ahcW46NOB"
      }
    },
    {
      "cell_type": "code",
      "source": [
        "import re\n",
        "fhand=open('mbox.txt','r')\n",
        "count=0\n",
        "rexp=input('Enter a regular expression:')\n",
        "\n",
        "for line in fhand:\n",
        "  line=line.strip() \n",
        "  if re.search(rexp,line):\n",
        "    count+=1 #same as count=count+1\n",
        "\n",
        "print('mbox.txt had',count,'lines that matched',rexp)"
      ],
      "metadata": {
        "colab": {
          "base_uri": "https://localhost:8080/"
        },
        "id": "nvvVpxOF60N3",
        "outputId": "0874c9f7-ba6f-496a-95c7-ccdca0f60634"
      },
      "execution_count": 8,
      "outputs": [
        {
          "output_type": "stream",
          "name": "stdout",
          "text": [
            "Enter a regular expression:^Author\n",
            "mbox.txt had 1798 lines that matched ^Author\n"
          ]
        }
      ]
    },
    {
      "cell_type": "markdown",
      "source": [
        "**Exercise 2: Write a program to look for lines of the form:\n",
        "New Revision: 39772\n",
        "Extract the number from each of the lines using a regular expression\n",
        "and the findall() method. Compute the average of the numbers and\n",
        "print out the average as an integer.**\n",
        "\n",
        "Enter file:mbox.txt\n",
        "\n",
        "38549\n",
        "\n",
        "Enter file:mbox-short.txt\n",
        "\n",
        "39756"
      ],
      "metadata": {
        "id": "smV7j52h61lb"
      }
    },
    {
      "cell_type": "code",
      "source": [
        "import re\n",
        "import math\n",
        "\n",
        "fname=input('Enter file:')\n",
        "fhand=open(fname,'r')\n",
        "count=0\n",
        "sum=0\n",
        "\n",
        "for line in fhand:\n",
        "  line=line.strip()\n",
        "  revision=re.findall('^New Revision: ([0-9]+)',line) #or revision=re.findall('^New\\sRevision:\\s(\\d+)',line)\n",
        "  if len(revision)!=1:\n",
        "    continue\n",
        "  num=float(revision[0]) #we can also use num=int(revision[0])\n",
        "  count+=1\n",
        "  sum+=num\n",
        "  avg=sum/count\n",
        "\n",
        "print(avg)\n",
        "print(round(avg))\n",
        "print(int(avg)) #this will give desired result\n",
        "print(math.floor(avg)) #this will also give desired result\n",
        "print(math.ceil(avg))"
      ],
      "metadata": {
        "colab": {
          "base_uri": "https://localhost:8080/"
        },
        "id": "KLvYNPFX6_Rf",
        "outputId": "0b85e973-7d20-479e-a199-e9712a929352"
      },
      "execution_count": 28,
      "outputs": [
        {
          "output_type": "stream",
          "name": "stdout",
          "text": [
            "Enter file:mbox-short.txt\n",
            "39756.92592592593\n",
            "39757\n",
            "39756\n",
            "39756\n",
            "39757\n"
          ]
        }
      ]
    }
  ]
}