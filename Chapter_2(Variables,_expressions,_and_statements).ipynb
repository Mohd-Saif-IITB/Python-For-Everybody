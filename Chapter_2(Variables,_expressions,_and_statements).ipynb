{
  "nbformat": 4,
  "nbformat_minor": 0,
  "metadata": {
    "colab": {
      "name": "Chapter_2(Variables, expressions, and statements).ipynb",
      "provenance": [],
      "collapsed_sections": [],
      "authorship_tag": "ABX9TyNkKzS2QZoTFGRjK6FbDyG+",
      "include_colab_link": true
    },
    "kernelspec": {
      "name": "python3",
      "display_name": "Python 3"
    },
    "language_info": {
      "name": "python"
    }
  },
  "cells": [
    {
      "cell_type": "markdown",
      "metadata": {
        "id": "view-in-github",
        "colab_type": "text"
      },
      "source": [
        "<a href=\"https://colab.research.google.com/github/Mohd-Saif-IITB/Python-For-Everybody/blob/main/Chapter_2(Variables%2C_expressions%2C_and_statements).ipynb\" target=\"_parent\"><img src=\"https://colab.research.google.com/assets/colab-badge.svg\" alt=\"Open In Colab\"/></a>"
      ]
    },
    {
      "cell_type": "markdown",
      "source": [
        "**Exercise 2: Write a program that uses input to prompt a user for their\n",
        "name and then welcomes them.**\n",
        "\n",
        "Enter your name: Chuck\n",
        "\n",
        "Hello Chuck"
      ],
      "metadata": {
        "id": "R8Y0sW58P-VG"
      }
    },
    {
      "cell_type": "code",
      "source": [
        "greet=input('Enter your name:')\n",
        "print('Hello',greet)"
      ],
      "metadata": {
        "colab": {
          "base_uri": "https://localhost:8080/"
        },
        "id": "jNjANvAlQRUB",
        "outputId": "66b8e2a4-be67-4bd0-802f-eb34c4fc66be"
      },
      "execution_count": null,
      "outputs": [
        {
          "output_type": "stream",
          "name": "stdout",
          "text": [
            "Enter your name:Chuck\n",
            "Hello Chuck\n"
          ]
        }
      ]
    },
    {
      "cell_type": "markdown",
      "source": [
        "**Exercise 3: Write a program to prompt the user for hours and rate per\n",
        "hour to compute gross pay.**\n",
        "\n",
        "Enter Hours: 35\n",
        "\n",
        "Enter Rate: 2.75\n",
        "\n",
        "Pay: 96.25\n",
        "\n",
        "We won’t worry about making sure our pay has exactly two digits after the decimal\n",
        "place for now. If you want, you can play with the built-in Python round function\n",
        "to properly round the resulting pay to two decimal places."
      ],
      "metadata": {
        "id": "m5E5keq7RIsT"
      }
    },
    {
      "cell_type": "code",
      "source": [
        "hours=input('Enter Hours:')\n",
        "rate=input('Enter Rate:')\n",
        "pay=float(hours)*float(rate)\n",
        "print('Pay:',pay)\n",
        "#using round() function\n",
        "print('Pay:',round(pay))"
      ],
      "metadata": {
        "colab": {
          "base_uri": "https://localhost:8080/"
        },
        "id": "z-E0ic2ZQvHv",
        "outputId": "84cfcb28-b29e-407a-ceb1-3ee614c85d0d"
      },
      "execution_count": null,
      "outputs": [
        {
          "output_type": "stream",
          "name": "stdout",
          "text": [
            "Enter Hours:35\n",
            "Enter Rate:2.75\n",
            "Pay: 96.25\n",
            "Pay: 96\n"
          ]
        }
      ]
    },
    {
      "cell_type": "code",
      "source": [
        ""
      ],
      "metadata": {
        "id": "mefzK2yLStDa"
      },
      "execution_count": null,
      "outputs": []
    },
    {
      "cell_type": "markdown",
      "source": [
        "**Exercise 4: Assume that we execute the following assignment state-\n",
        "ments:**\n",
        "\n",
        "width = 17\n",
        "\n",
        "height = 12.0\n",
        "\n",
        "**For each of the following expressions, write the value of the expression and the\n",
        "type (of the value of the expression).**\n",
        "1. width//2\n",
        "2. width/2.0\n",
        "3. height/3\n",
        "4. 1 + 2 * 5\n",
        "\n",
        "Use the Python interpreter to check your answers."
      ],
      "metadata": {
        "id": "OqmkJo4uTRsm"
      }
    },
    {
      "cell_type": "code",
      "source": [
        "width=17\n",
        "height=12.0\n",
        "w=width//2\n",
        "print(w,type(w))\n",
        "x=width/2.0\n",
        "print(x,type(x))\n",
        "y=height/3\n",
        "print(y,type(y))\n",
        "z=1+2*5\n",
        "print(z,type(z))"
      ],
      "metadata": {
        "colab": {
          "base_uri": "https://localhost:8080/"
        },
        "id": "oxbSyRRNTnV5",
        "outputId": "0fd95e8f-1931-4be4-cf55-ed02fb3ff7cd"
      },
      "execution_count": null,
      "outputs": [
        {
          "output_type": "stream",
          "name": "stdout",
          "text": [
            "8 <class 'int'>\n",
            "8.5 <class 'float'>\n",
            "4.0 <class 'float'>\n",
            "11 <class 'int'>\n"
          ]
        }
      ]
    },
    {
      "cell_type": "code",
      "source": [
        ""
      ],
      "metadata": {
        "id": "4pxmXmLqUKgO"
      },
      "execution_count": null,
      "outputs": []
    },
    {
      "cell_type": "markdown",
      "source": [
        "**Exercise 5: Write a program which prompts the user for a Celsius tem-\n",
        "perature, convert the temperature to Fahrenheit, and print out the\n",
        "converted temperature.**"
      ],
      "metadata": {
        "id": "cMR7D7ToVISJ"
      }
    },
    {
      "cell_type": "code",
      "source": [
        "# we must know the formula: C/5=(F-32)/9\n",
        "temp=input('Enter Celcius Temperature:')\n",
        "celcius=float(temp)\n",
        "fahrenheit=(9*celcius/5)+32\n",
        "print('Temperature in fahrenheit is:',fahrenheit)"
      ],
      "metadata": {
        "colab": {
          "base_uri": "https://localhost:8080/"
        },
        "id": "sstBbzHaVN7y",
        "outputId": "6d692430-1d8c-4a9a-8c84-e46f51dab4bc"
      },
      "execution_count": null,
      "outputs": [
        {
          "output_type": "stream",
          "name": "stdout",
          "text": [
            "Enter Celcius Temperature:5.21\n",
            "Temperature in fahrenheit is: 41.378\n"
          ]
        }
      ]
    },
    {
      "cell_type": "code",
      "source": [
        ""
      ],
      "metadata": {
        "id": "otIbtDTPWzQo"
      },
      "execution_count": null,
      "outputs": []
    }
  ]
}