{
  "nbformat": 4,
  "nbformat_minor": 0,
  "metadata": {
    "colab": {
      "name": "Chapter_5(Iteration).ipynb",
      "provenance": [],
      "collapsed_sections": [],
      "authorship_tag": "ABX9TyOoQz3nDJSgHzTa7FTHjNDm",
      "include_colab_link": true
    },
    "kernelspec": {
      "name": "python3",
      "display_name": "Python 3"
    },
    "language_info": {
      "name": "python"
    }
  },
  "cells": [
    {
      "cell_type": "markdown",
      "metadata": {
        "id": "view-in-github",
        "colab_type": "text"
      },
      "source": [
        "<a href=\"https://colab.research.google.com/github/Mohd-Saif-IITB/Python-For-Everybody/blob/main/Chapter_5(Iteration).ipynb\" target=\"_parent\"><img src=\"https://colab.research.google.com/assets/colab-badge.svg\" alt=\"Open In Colab\"/></a>"
      ]
    },
    {
      "cell_type": "markdown",
      "source": [
        "**Exercise 1: Write a program which repeatedly reads numbers until the\n",
        "user enters “done”. Once “done” is entered, print out the total, count,\n",
        "and average of the numbers. If the user enters anything other than a\n",
        "number, detect their mistake using try and except and print an error\n",
        "message and skip to the next number.**\n",
        "\n",
        "Enter a number: 4\n",
        "\n",
        "Enter a number: 5\n",
        "\n",
        "Enter a number: bad data\n",
        "\n",
        "Invalid input\n",
        "\n",
        "Enter a number: 7\n",
        "\n",
        "Enter a number: done\n",
        "\n",
        "16 3 5.333333333333333"
      ],
      "metadata": {
        "id": "iPjxNd2PXGW-"
      }
    },
    {
      "cell_type": "code",
      "source": [
        "sum=0\n",
        "count=0\n",
        "while True:\n",
        "  num=input('Enter a number:')\n",
        "  if num == 'done':\n",
        "   break\n",
        "  else:\n",
        "    try:\n",
        "      num=float(num)\n",
        "    except:\n",
        "      print('Invalid input')\n",
        "      continue\n",
        "    count=count+1\n",
        "    sum=round(sum+num)\n",
        "    average=sum/count\n",
        "print(sum,count,average)\n"
      ],
      "metadata": {
        "colab": {
          "base_uri": "https://localhost:8080/"
        },
        "id": "NKq0uBckXig5",
        "outputId": "0ade460b-cbed-4ec7-e943-be3e2e235dc6"
      },
      "execution_count": null,
      "outputs": [
        {
          "output_type": "stream",
          "name": "stdout",
          "text": [
            "Enter a number:4\n",
            "Enter a number:5\n",
            "Enter a number:bad data\n",
            "Invalid input\n",
            "Enter a number:7\n",
            "Enter a number:done\n",
            "16 3 5.333333333333333\n"
          ]
        }
      ]
    },
    {
      "cell_type": "markdown",
      "source": [
        "**Exercise 2: Write another program that prompts for a list of numbers\n",
        "as above and at the end prints out both the maximum and minimum of\n",
        "the numbers instead of the average.**"
      ],
      "metadata": {
        "id": "24iY11CEczg9"
      }
    },
    {
      "cell_type": "code",
      "source": [
        "sum=0\n",
        "count=0\n",
        "max=None\n",
        "min=None\n",
        "\n",
        "while True:\n",
        "  num=input('Enter a number:')\n",
        "  if num == 'done':\n",
        "   break\n",
        "  else:\n",
        "    try:\n",
        "      num=float(num)\n",
        "    except:\n",
        "      print('Invalid input')\n",
        "      continue\n",
        "    count=count+1\n",
        "    sum=round(sum+num)\n",
        "    if max==None:\n",
        "      max=num\n",
        "    elif num>max:\n",
        "      max=num\n",
        "    if min==None:\n",
        "      min=num\n",
        "    elif num<min:\n",
        "      min=num\n",
        "\n",
        "print(sum,count,round(max),round(min))"
      ],
      "metadata": {
        "colab": {
          "base_uri": "https://localhost:8080/"
        },
        "id": "Fd677AFLc8Qm",
        "outputId": "96c40739-df2f-4f6a-ffb9-2a7332d1a515"
      },
      "execution_count": null,
      "outputs": [
        {
          "output_type": "stream",
          "name": "stdout",
          "text": [
            "Enter a number:4\n",
            "Enter a number:5\n",
            "Enter a number:bad data\n",
            "Invalid input\n",
            "Enter a number:7\n",
            "Enter a number:done\n",
            "16 3 7 4\n"
          ]
        }
      ]
    }
  ]
}