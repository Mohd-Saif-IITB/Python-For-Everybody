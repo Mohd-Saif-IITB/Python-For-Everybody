{
  "nbformat": 4,
  "nbformat_minor": 0,
  "metadata": {
    "colab": {
      "name": "Chapter_12(Networked Programs).ipynb",
      "provenance": [],
      "collapsed_sections": [],
      "authorship_tag": "ABX9TyOXxB88XqPgwVmQJRc72YVo",
      "include_colab_link": true
    },
    "kernelspec": {
      "name": "python3",
      "display_name": "Python 3"
    },
    "language_info": {
      "name": "python"
    }
  },
  "cells": [
    {
      "cell_type": "markdown",
      "metadata": {
        "id": "view-in-github",
        "colab_type": "text"
      },
      "source": [
        "<a href=\"https://colab.research.google.com/github/Mohd-Saif-IITB/Python-For-Everybody/blob/main/Chapter_12(Networked_Programs).ipynb\" target=\"_parent\"><img src=\"https://colab.research.google.com/assets/colab-badge.svg\" alt=\"Open In Colab\"/></a>"
      ]
    },
    {
      "cell_type": "markdown",
      "source": [
        "**Exercise 1: Change the socket program socket1.py to prompt the user\n",
        "for the URL so it can read any web page. You can use split('/') to\n",
        "break the URL into its component parts so you can extract the host\n",
        "name for the socket connect call. Add error checking using try and\n",
        "except to handle the condition where the user enters an improperly\n",
        "formatted or non-existent URL.**"
      ],
      "metadata": {
        "id": "BiTPWMU2COnI"
      }
    },
    {
      "cell_type": "code",
      "source": [
        "import socket\n",
        "try:\n",
        "  url=input('Enter the URL:') # http://data.pr4e.org/romeo.txt\n",
        "  host=url.split('/')[2]\n",
        "\n",
        "  mysock=socket.socket(socket.AF_INET,socket.SOCK_STREAM)\n",
        "  mysock.connect((host,80))\n",
        "  cmd='GET '+url+' HTTP/1.0\\r\\n\\r\\n'\n",
        "  cmd=cmd.encode()\n",
        "  mysock.send(cmd)\n",
        "  while True:\n",
        "    data=mysock.recv(512)\n",
        "    if(len(data)<1):\n",
        "      break\n",
        "    print(data.decode(),end='')\n",
        "  mysock.close()\n",
        "except:\n",
        "  print('Error:Improperly formatted or non-existent URL')"
      ],
      "metadata": {
        "colab": {
          "base_uri": "https://localhost:8080/"
        },
        "id": "qMmnbpQjCRvo",
        "outputId": "04311f2b-163a-46a2-f34b-71a418ca5736"
      },
      "execution_count": 27,
      "outputs": [
        {
          "output_type": "stream",
          "name": "stdout",
          "text": [
            "Enter URL:http://data.pr4e.org/romeo.txt\n",
            "HTTP/1.1 200 OK\n",
            "Date: Wed, 02 Mar 2022 05:47:07 GMT\n",
            "Server: Apache/2.4.18 (Ubuntu)\n",
            "Last-Modified: Sat, 13 May 2017 11:22:22 GMT\n",
            "ETag: \"a7-54f6609245537\"\n",
            "Accept-Ranges: bytes\n",
            "Content-Length: 167\n",
            "Cache-Control: max-age=0, no-cache, no-store, must-revalidate\n",
            "Pragma: no-cache\n",
            "Expires: Wed, 11 Jan 1984 05:00:00 GMT\n",
            "Connection: close\n",
            "Content-Type: text/plain\n",
            "\n",
            "But soft what light through yonder window breaks\n",
            "It is the east and Juliet is the sun\n",
            "Arise fair sun and kill the envious moon\n",
            "Who is already sick and pale with grief\n"
          ]
        }
      ]
    },
    {
      "cell_type": "markdown",
      "source": [
        "**Exercise 2: Change your socket program so that it counts the number\n",
        "of characters it has received and stops displaying any text after it has\n",
        "shown 3000 characters. The program should retrieve the entire docu-\n",
        "ment and count the total number of characters and display the count\n",
        "of the number of characters at the end of the document.**"
      ],
      "metadata": {
        "id": "LujXDZbuK0Hv"
      }
    },
    {
      "cell_type": "code",
      "source": [
        "import socket\n",
        "try:\n",
        "  url=input('Enter the URL:') # http://data.pr4e.org/romeo-full.txt\n",
        "  host=url.split('/')[2]\n",
        "\n",
        "  mysock=socket.socket(socket.AF_INET,socket.SOCK_STREAM)\n",
        "  mysock.connect((host,80))\n",
        "  cmd='GET '+url+' HTTP/1.0\\r\\n\\r\\n'\n",
        "  cmd=cmd.encode()\n",
        "  mysock.send(cmd)\n",
        "\n",
        "  receive=b\"\"\n",
        "  while True:\n",
        "    data=mysock.recv(512)\n",
        "    if(len(data)<1):\n",
        "      break\n",
        "    receive+=data\n",
        "  receive=receive.decode()\n",
        "  print(receive[:3000])\n",
        "  print('Total no. of characters received',len(receive)) #with header\n",
        "  mysock.close()\n",
        "except:\n",
        "  print('Error:Improperly formatted or non-existent URL')"
      ],
      "metadata": {
        "colab": {
          "base_uri": "https://localhost:8080/"
        },
        "id": "AZfMcaI1K4tQ",
        "outputId": "1cc78ac0-0719-4246-eff4-7aa76e7bed3d"
      },
      "execution_count": 38,
      "outputs": [
        {
          "output_type": "stream",
          "name": "stdout",
          "text": [
            "Enter the URL:http://data.pr4e.org/romeo-full.txt\n",
            "HTTP/1.1 200 OK\n",
            "Date: Wed, 02 Mar 2022 06:25:36 GMT\n",
            "Server: Apache/2.4.18 (Ubuntu)\n",
            "Last-Modified: Sat, 13 May 2017 11:22:22 GMT\n",
            "ETag: \"22a0-54f6609245537\"\n",
            "Accept-Ranges: bytes\n",
            "Content-Length: 8864\n",
            "Cache-Control: max-age=0, no-cache, no-store, must-revalidate\n",
            "Pragma: no-cache\n",
            "Expires: Wed, 11 Jan 1984 05:00:00 GMT\n",
            "Connection: close\n",
            "Content-Type: text/plain\n",
            "\n",
            "Romeo and Juliet\n",
            "Act 2, Scene 2 \n",
            "\n",
            "SCENE II. Capulet's orchard.\n",
            "\n",
            "Enter ROMEO\n",
            "\n",
            "ROMEO\n",
            "\n",
            "He jests at scars that never felt a wound.\n",
            "JULIET appears above at a window\n",
            "\n",
            "But, soft! what light through yonder window breaks?\n",
            "It is the east, and Juliet is the sun.\n",
            "Arise, fair sun, and kill the envious moon,\n",
            "Who is already sick and pale with grief,\n",
            "That thou her maid art far more fair than she:\n",
            "Be not her maid, since she is envious;\n",
            "Her vestal livery is but sick and green\n",
            "And none but fools do wear it; cast it off.\n",
            "It is my lady, O, it is my love!\n",
            "O, that she knew she were!\n",
            "She speaks yet she says nothing: what of that?\n",
            "Her eye discourses; I will answer it.\n",
            "I am too bold, 'tis not to me she speaks:\n",
            "Two of the fairest stars in all the heaven,\n",
            "Having some business, do entreat her eyes\n",
            "To twinkle in their spheres till they return.\n",
            "What if her eyes were there, they in her head?\n",
            "The brightness of her cheek would shame those stars,\n",
            "As daylight doth a lamp; her eyes in heaven\n",
            "Would through the airy region stream so bright\n",
            "That birds would sing and think it were not night.\n",
            "See, how she leans her cheek upon her hand!\n",
            "O, that I were a glove upon that hand,\n",
            "That I might touch that cheek!\n",
            "\n",
            "JULIET\n",
            "\n",
            "Ay me!\n",
            "\n",
            "ROMEO\n",
            "\n",
            "She speaks:\n",
            "O, speak again, bright angel! for thou art\n",
            "As glorious to this night, being o'er my head\n",
            "As is a winged messenger of heaven\n",
            "Unto the white-upturned wondering eyes\n",
            "Of mortals that fall back to gaze on him\n",
            "When he bestrides the lazy-pacing clouds\n",
            "And sails upon the bosom of the air.\n",
            "\n",
            "JULIET\n",
            "\n",
            "O Romeo, Romeo! wherefore art thou Romeo?\n",
            "Deny thy father and refuse thy name;\n",
            "Or, if thou wilt not, be but sworn my love,\n",
            "And I'll no longer be a Capulet.\n",
            "\n",
            "ROMEO\n",
            "\n",
            "[Aside] Shall I hear more, or shall I speak at this?\n",
            "\n",
            "JULIET\n",
            "\n",
            "'Tis but thy name that is my enemy;\n",
            "Thou art thyself, though not a Montague.\n",
            "What's Montague? it is nor hand, nor foot,\n",
            "Nor arm, nor face, nor any other part\n",
            "Belonging to a man. O, be some other name!\n",
            "What's in a name? that which we call a rose\n",
            "By any other name would smell as sweet;\n",
            "So Romeo would, were he not Romeo call'd,\n",
            "Retain that dear perfection which he owes\n",
            "Without that title. Romeo, doff thy name,\n",
            "And for that name which is no part of thee\n",
            "Take all myself.\n",
            "\n",
            "ROMEO\n",
            "\n",
            "I take thee at thy word:\n",
            "Call me but love, and I'll be new baptized;\n",
            "Henceforth I never will be Romeo.\n",
            "\n",
            "JULIET\n",
            "\n",
            "What man art thou that thus bescreen'd in night\n",
            "So stumblest on my counsel?\n",
            "\n",
            "ROMEO\n",
            "\n",
            "By a name\n",
            "I know not how to tell thee who I am:\n",
            "My name, dear saint, is hateful to myself,\n",
            "Because it is an enemy to thee;\n",
            "Had I it written, I would tear the word.\n",
            "\n",
            "JULIET\n",
            "\n",
            "My ears have not yet drunk a hundred words\n",
            "Of\n",
            "Total no. of characters received 9236\n"
          ]
        }
      ]
    },
    {
      "cell_type": "markdown",
      "source": [
        "**Exercise 3: Use urllib to replicate the previous exercise of (1) retrieving\n",
        "the document from a URL, (2) displaying up to 3000 characters, and\n",
        "(3) counting the overall number of characters in the document. Don’t\n",
        "worry about the headers for this exercise, simply show the first 3000\n",
        "characters of the document contents.**"
      ],
      "metadata": {
        "id": "_VgtKYqyPSe9"
      }
    },
    {
      "cell_type": "code",
      "source": [
        "import urllib.request, urllib.parse, urllib.error\n",
        "\n",
        "url=input('Enter the URL:') #http://data.pr4e.org/romeo-full.txt\n",
        "fhand=urllib.request.urlopen(url).read()\n",
        "fhand=fhand.decode()\n",
        "print(fhand[:3000])\n",
        "print('Total no. of characters received',len(fhand)) #without header"
      ],
      "metadata": {
        "colab": {
          "base_uri": "https://localhost:8080/"
        },
        "id": "7OBy3RCMPWEH",
        "outputId": "d2823f3e-6d46-4534-d7e2-49ce409d62da"
      },
      "execution_count": 39,
      "outputs": [
        {
          "output_type": "stream",
          "name": "stdout",
          "text": [
            "Enter the URL:http://data.pr4e.org/romeo-full.txt\n",
            "Romeo and Juliet\n",
            "Act 2, Scene 2 \n",
            "\n",
            "SCENE II. Capulet's orchard.\n",
            "\n",
            "Enter ROMEO\n",
            "\n",
            "ROMEO\n",
            "\n",
            "He jests at scars that never felt a wound.\n",
            "JULIET appears above at a window\n",
            "\n",
            "But, soft! what light through yonder window breaks?\n",
            "It is the east, and Juliet is the sun.\n",
            "Arise, fair sun, and kill the envious moon,\n",
            "Who is already sick and pale with grief,\n",
            "That thou her maid art far more fair than she:\n",
            "Be not her maid, since she is envious;\n",
            "Her vestal livery is but sick and green\n",
            "And none but fools do wear it; cast it off.\n",
            "It is my lady, O, it is my love!\n",
            "O, that she knew she were!\n",
            "She speaks yet she says nothing: what of that?\n",
            "Her eye discourses; I will answer it.\n",
            "I am too bold, 'tis not to me she speaks:\n",
            "Two of the fairest stars in all the heaven,\n",
            "Having some business, do entreat her eyes\n",
            "To twinkle in their spheres till they return.\n",
            "What if her eyes were there, they in her head?\n",
            "The brightness of her cheek would shame those stars,\n",
            "As daylight doth a lamp; her eyes in heaven\n",
            "Would through the airy region stream so bright\n",
            "That birds would sing and think it were not night.\n",
            "See, how she leans her cheek upon her hand!\n",
            "O, that I were a glove upon that hand,\n",
            "That I might touch that cheek!\n",
            "\n",
            "JULIET\n",
            "\n",
            "Ay me!\n",
            "\n",
            "ROMEO\n",
            "\n",
            "She speaks:\n",
            "O, speak again, bright angel! for thou art\n",
            "As glorious to this night, being o'er my head\n",
            "As is a winged messenger of heaven\n",
            "Unto the white-upturned wondering eyes\n",
            "Of mortals that fall back to gaze on him\n",
            "When he bestrides the lazy-pacing clouds\n",
            "And sails upon the bosom of the air.\n",
            "\n",
            "JULIET\n",
            "\n",
            "O Romeo, Romeo! wherefore art thou Romeo?\n",
            "Deny thy father and refuse thy name;\n",
            "Or, if thou wilt not, be but sworn my love,\n",
            "And I'll no longer be a Capulet.\n",
            "\n",
            "ROMEO\n",
            "\n",
            "[Aside] Shall I hear more, or shall I speak at this?\n",
            "\n",
            "JULIET\n",
            "\n",
            "'Tis but thy name that is my enemy;\n",
            "Thou art thyself, though not a Montague.\n",
            "What's Montague? it is nor hand, nor foot,\n",
            "Nor arm, nor face, nor any other part\n",
            "Belonging to a man. O, be some other name!\n",
            "What's in a name? that which we call a rose\n",
            "By any other name would smell as sweet;\n",
            "So Romeo would, were he not Romeo call'd,\n",
            "Retain that dear perfection which he owes\n",
            "Without that title. Romeo, doff thy name,\n",
            "And for that name which is no part of thee\n",
            "Take all myself.\n",
            "\n",
            "ROMEO\n",
            "\n",
            "I take thee at thy word:\n",
            "Call me but love, and I'll be new baptized;\n",
            "Henceforth I never will be Romeo.\n",
            "\n",
            "JULIET\n",
            "\n",
            "What man art thou that thus bescreen'd in night\n",
            "So stumblest on my counsel?\n",
            "\n",
            "ROMEO\n",
            "\n",
            "By a name\n",
            "I know not how to tell thee who I am:\n",
            "My name, dear saint, is hateful to myself,\n",
            "Because it is an enemy to thee;\n",
            "Had I it written, I would tear the word.\n",
            "\n",
            "JULIET\n",
            "\n",
            "My ears have not yet drunk a hundred words\n",
            "Of that tongue's utterance, yet I know the sound:\n",
            "Art thou not Romeo and a Montague?\n",
            "\n",
            "ROMEO\n",
            "\n",
            "Neither, fair saint, if either thee dislike.\n",
            "\n",
            "JULIET\n",
            "\n",
            "How camest thou hither, tell me, and wherefore?\n",
            "The orchard walls are high and hard to climb,\n",
            "And the place death, considering who thou art,\n",
            "If any of my kinsmen find thee here.\n",
            "\n",
            "ROMEO\n",
            "\n",
            "With love's light wings did I o'er-perch \n",
            "Total no. of characters received 8864\n"
          ]
        }
      ]
    },
    {
      "cell_type": "markdown",
      "source": [
        "**Exercise 4: Change the urllinks.py program to extract and count para-\n",
        "graph (p) tags from the retrieved HTML document and display the\n",
        "count of the paragraphs as the output of your program. Do not display\n",
        "the paragraph text, only count them. Test your program on several\n",
        "small web pages as well as some larger web pages.**"
      ],
      "metadata": {
        "id": "0dXPUWsNPtB4"
      }
    },
    {
      "cell_type": "code",
      "source": [
        "import bs4\n",
        "\n",
        "# To run this, download the BeautifulSoup zip file\n",
        "# http://www.py4e.com/code3/bs4.zip\n",
        "# and unzip it in the same directory as this file\n",
        "\n",
        "import urllib.request, urllib.parse, urllib.error\n",
        "from bs4 import BeautifulSoup\n",
        "import ssl\n",
        "\n",
        "# Ignore SSL certificate errors\n",
        "ctx = ssl.create_default_context()\n",
        "ctx.check_hostname = False\n",
        "ctx.verify_mode = ssl.CERT_NONE\n",
        "\n",
        "url = input('Enter - ') # http://www.dr-chuck.com/dr-chuck/resume/bio.htm\n",
        "html = urllib.request.urlopen(url, context=ctx).read()\n",
        "soup = BeautifulSoup(html, 'html.parser')\n",
        "\n",
        "# Retrieve all of the anchor tags\n",
        "# tags = soup('a')\n",
        "# for tag in tags:\n",
        "#     print(tag.get('href', None))\n",
        "# Retrieve all the paragraph tags\n",
        "tags=soup('p')\n",
        "print(len(tags))\n"
      ],
      "metadata": {
        "colab": {
          "base_uri": "https://localhost:8080/"
        },
        "id": "B0E_P-USPwyq",
        "outputId": "50186aa5-3294-4d70-eeff-943832260304"
      },
      "execution_count": 41,
      "outputs": [
        {
          "output_type": "stream",
          "name": "stdout",
          "text": [
            "Enter - http://www.dr-chuck.com/dr-chuck/resume/bio.htm\n",
            "7\n"
          ]
        }
      ]
    },
    {
      "cell_type": "markdown",
      "source": [
        "**Exercise 5: (Advanced) Change the socket program so that it only shows\n",
        "data after the headers and a blank line have been received. Remember\n",
        "that recv receives characters (newlines and all), not lines.**"
      ],
      "metadata": {
        "id": "rcw175-3PxOs"
      }
    },
    {
      "cell_type": "code",
      "source": [
        "import socket\n",
        "try:\n",
        "  url=input('Enter the URL:') # http://data.pr4e.org/romeo.txt\n",
        "  host=url.split('/')[2]\n",
        "\n",
        "  mysock=socket.socket(socket.AF_INET,socket.SOCK_STREAM)\n",
        "  mysock.connect((host,80))\n",
        "  cmd='GET '+url+' HTTP/1.0\\r\\n\\r\\n'\n",
        "  cmd=cmd.encode()\n",
        "  mysock.send(cmd)\n",
        "  while True:\n",
        "    data=mysock.recv(512) #needs to fix this\n",
        "    if(len(data)<1):\n",
        "      break\n",
        "    print(data.decode(),end='')\n",
        "  mysock.close()\n",
        "except:\n",
        "  print('Error:Improperly formatted or non-existent URL')"
      ],
      "metadata": {
        "id": "REAlWl3LYrLQ"
      },
      "execution_count": null,
      "outputs": []
    }
  ]
}