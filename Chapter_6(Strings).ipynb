{
  "nbformat": 4,
  "nbformat_minor": 0,
  "metadata": {
    "colab": {
      "name": "Chapter_6(Strings).ipynb",
      "provenance": [],
      "collapsed_sections": [],
      "authorship_tag": "ABX9TyMg7zD6bCC4YEJelcPMId8u",
      "include_colab_link": true
    },
    "kernelspec": {
      "name": "python3",
      "display_name": "Python 3"
    },
    "language_info": {
      "name": "python"
    }
  },
  "cells": [
    {
      "cell_type": "markdown",
      "metadata": {
        "id": "view-in-github",
        "colab_type": "text"
      },
      "source": [
        "<a href=\"https://colab.research.google.com/github/Mohd-Saif-IITB/Python-For-Everybody/blob/main/Chapter_6(Strings).ipynb\" target=\"_parent\"><img src=\"https://colab.research.google.com/assets/colab-badge.svg\" alt=\"Open In Colab\"/></a>"
      ]
    },
    {
      "cell_type": "markdown",
      "source": [
        "**Exercise 1: Write a while loop that starts at the last character in the\n",
        "string and works its way backwards to the first character in the string,\n",
        "printing each letter on a separate line, except backwards.**"
      ],
      "metadata": {
        "id": "gnNvSwCLffV_"
      }
    },
    {
      "cell_type": "code",
      "source": [
        "fruit='FIG'\n",
        "index =len(fruit)-1\n",
        "\n",
        "while 0<=index < len(fruit):\n",
        "  letter = fruit[index]\n",
        "  print(letter)\n",
        "  index=index-1"
      ],
      "metadata": {
        "colab": {
          "base_uri": "https://localhost:8080/"
        },
        "id": "dWB1Qm-Cgb5T",
        "outputId": "406dc213-e43c-4371-a75e-4ba064e0ab1a"
      },
      "execution_count": null,
      "outputs": [
        {
          "output_type": "stream",
          "name": "stdout",
          "text": [
            "G\n",
            "I\n",
            "F\n"
          ]
        }
      ]
    },
    {
      "cell_type": "markdown",
      "source": [
        "**Exercise 2: Given that fruit is a string, what does fruit[:] mean?**"
      ],
      "metadata": {
        "id": "zz9nvgP8jZKb"
      }
    },
    {
      "cell_type": "code",
      "source": [
        "fruit='Apple'\n",
        "fruit[:] # it is a string same as fruit"
      ],
      "metadata": {
        "colab": {
          "base_uri": "https://localhost:8080/",
          "height": 35
        },
        "id": "SwNpQ5CojbU3",
        "outputId": "623e6285-1b81-4acf-df3f-b1bafb789b0e"
      },
      "execution_count": null,
      "outputs": [
        {
          "output_type": "execute_result",
          "data": {
            "application/vnd.google.colaboratory.intrinsic+json": {
              "type": "string"
            },
            "text/plain": [
              "'Apple'"
            ]
          },
          "metadata": {},
          "execution_count": 13
        }
      ]
    },
    {
      "cell_type": "markdown",
      "source": [
        "**Exercise 3: Encapsulate this code in a function named count, and gen-\n",
        "eralize it so that it accepts the string and the letter as arguments.**\n",
        "\n",
        "word = 'banana'\n",
        "\n",
        "count = 0\n",
        "\n",
        "for letter in word:\n",
        "\n",
        "if letter == 'a':\n",
        "\n",
        "count = count + 1\n",
        "\n",
        "print(count)"
      ],
      "metadata": {
        "id": "ljUpGu2Sj2_g"
      }
    },
    {
      "cell_type": "code",
      "source": [
        "def count():\n",
        "  word = input('Fruit name:')\n",
        "  count = 0\n",
        "  for letter in word:\n",
        "     if letter == 'a':\n",
        "       count = count + 1\n",
        "  print(count)\n",
        "count()"
      ],
      "metadata": {
        "colab": {
          "base_uri": "https://localhost:8080/"
        },
        "id": "dejEv1a1j-cR",
        "outputId": "eb5e2ac2-2f5f-46f3-98d3-a5fa094fa70b"
      },
      "execution_count": null,
      "outputs": [
        {
          "output_type": "stream",
          "name": "stdout",
          "text": [
            "Fruit name:banana\n",
            "3\n"
          ]
        }
      ]
    },
    {
      "cell_type": "markdown",
      "source": [
        "**Exercise 4: There is a string method called count that is similar to\n",
        "the function in the previous exercise. Read the documentation of this\n",
        "method at:**\n",
        "https://docs.python.org/library/stdtypes.html#string-methods\n",
        "\n",
        "Write an invocation that counts the number of times the letter a occurs\n",
        "in “banana”."
      ],
      "metadata": {
        "id": "lxuIozcUml26"
      }
    },
    {
      "cell_type": "code",
      "source": [
        "word=input('Fruit name:')\n",
        "str.count(word,'a')"
      ],
      "metadata": {
        "colab": {
          "base_uri": "https://localhost:8080/"
        },
        "id": "djvGBnxHnXST",
        "outputId": "1fcd5500-61b2-402d-9f9e-ba8f07880faa"
      },
      "execution_count": null,
      "outputs": [
        {
          "name": "stdout",
          "output_type": "stream",
          "text": [
            "Fruit name:banana\n"
          ]
        },
        {
          "output_type": "execute_result",
          "data": {
            "text/plain": [
              "3"
            ]
          },
          "metadata": {},
          "execution_count": 27
        }
      ]
    },
    {
      "cell_type": "markdown",
      "source": [
        "**Exercise 5: Take the following Python code that stores a string:**\n",
        "\n",
        "str = 'X-DSPAM-Confidence:0.8475'\n",
        "\n",
        "**Use find and string slicing to extract the portion of the string after the\n",
        "colon character and then use the float function to convert the extracted\n",
        "string into a floating point number.**"
      ],
      "metadata": {
        "id": "-IDfK2DbpWYp"
      }
    },
    {
      "cell_type": "code",
      "source": [
        "data='X-DSPAM-Confidence:0.8475'\n",
        "colon=data.find(':')\n",
        "found=data[colon+1:]\n",
        "print(float(found))"
      ],
      "metadata": {
        "colab": {
          "base_uri": "https://localhost:8080/"
        },
        "id": "X1Av6Xh8pv_x",
        "outputId": "3795e1f1-56e3-4936-abf1-25dad92d7f48"
      },
      "execution_count": null,
      "outputs": [
        {
          "output_type": "stream",
          "name": "stdout",
          "text": [
            "0.8475\n"
          ]
        }
      ]
    }
  ]
}