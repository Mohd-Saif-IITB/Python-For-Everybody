{
  "nbformat": 4,
  "nbformat_minor": 0,
  "metadata": {
    "colab": {
      "name": "Chapter_10(Tuples).ipynb",
      "provenance": [],
      "collapsed_sections": [],
      "authorship_tag": "ABX9TyOXgq5HJpPMZdPq3RVxEHCq",
      "include_colab_link": true
    },
    "kernelspec": {
      "name": "python3",
      "display_name": "Python 3"
    },
    "language_info": {
      "name": "python"
    }
  },
  "cells": [
    {
      "cell_type": "markdown",
      "metadata": {
        "id": "view-in-github",
        "colab_type": "text"
      },
      "source": [
        "<a href=\"https://colab.research.google.com/github/Mohd-Saif-IITB/Python-For-Everybody/blob/main/Chapter_10(Tuples).ipynb\" target=\"_parent\"><img src=\"https://colab.research.google.com/assets/colab-badge.svg\" alt=\"Open In Colab\"/></a>"
      ]
    },
    {
      "cell_type": "markdown",
      "source": [
        "**Exercise 1: Revise a previous program as follows: Read and parse the\n",
        "“From” lines and pull out the addresses from the line. Count the num-\n",
        "ber of messages from each person using a dictionary.\n",
        "After all the data has been read, print the person with the most commits\n",
        "by creating a list of (count, email) tuples from the dictionary. Then\n",
        "sort the list in reverse order and print out the person who has the most\n",
        "commits.**\n",
        "\n",
        "Sample Line:\n",
        "\n",
        "From stephen.marquard@uct.ac.za Sat Jan 5 09:14:16 2008\n",
        "\n",
        "Enter a file name: mbox-short.txt\n",
        "\n",
        "cwen@iupui.edu 5\n",
        "\n",
        "Enter a file name: mbox.txt\n",
        "\n",
        "zqian@umich.edu 195"
      ],
      "metadata": {
        "id": "cSIMvkTPjBMg"
      }
    },
    {
      "cell_type": "code",
      "source": [
        "fname=input('Enter file name:')\n",
        "fhand=open(fname,'r')\n",
        "di=dict()\n",
        "\n",
        "for line in fhand:\n",
        "  line=line.strip()\n",
        "  word=line.split()\n",
        "  if len(word)<2 or word[0]!='From':\n",
        "    continue\n",
        "  person=word[1]\n",
        "  di[person]=di.get(person,0)+1\n",
        "  lst=list()\n",
        "  for k,v in di.items():\n",
        "    tup=(v,k)\n",
        "    lst.append(tup)\n",
        "  lst=sorted(lst,reverse=True)\n",
        "for v,k in lst[:1]:\n",
        "  print(k,v)"
      ],
      "metadata": {
        "colab": {
          "base_uri": "https://localhost:8080/"
        },
        "id": "g4RsqGk84tRk",
        "outputId": "6811b134-5cfb-4905-b5d0-9a567c72181f"
      },
      "execution_count": null,
      "outputs": [
        {
          "output_type": "stream",
          "name": "stdout",
          "text": [
            "Enter file name:mbox.txt\n",
            "zqian@umich.edu 195\n"
          ]
        }
      ]
    },
    {
      "cell_type": "markdown",
      "source": [
        "**Exercise 2: This program counts the distribution of the hour of the day\n",
        "for each of the messages. You can pull the hour from the “From” line\n",
        "by finding the time string and then splitting that string into parts using\n",
        "the colon character. Once you have accumulated the counts for each\n",
        "hour, print out the counts, one per line, sorted by hour as shown below.**\n",
        "\n",
        "python timeofday.py\n",
        "\n",
        "Enter a file name: mbox-short.txt\n",
        "\n",
        "04 3\n",
        "\n",
        "06 1\n",
        "\n",
        "07 1\n",
        "\n",
        "09 2\n",
        "\n",
        "10 3\n",
        "\n",
        "11 6\n",
        "\n",
        "14 1\n",
        "\n",
        "15 2\n",
        "\n",
        "16 4\n",
        "\n",
        "17 2\n",
        "\n",
        "18 1\n",
        "\n",
        "19 1"
      ],
      "metadata": {
        "id": "zdA4YaX0jRNN"
      }
    },
    {
      "cell_type": "code",
      "source": [
        "# From stephen.marquard@uct.ac.za Sat Jan 5 09:14:16 2008 # example line\n",
        "fname=input('Enter a file name:')\n",
        "fhand=open(fname,'r')\n",
        "di=dict()\n",
        "\n",
        "for line in fhand:\n",
        "  line=line.strip()\n",
        "  word=line.split()\n",
        "  if len(word)<6 or word[0]!='From': # guardian statement\n",
        "    continue\n",
        "  time=word[5].split(':')\n",
        "  hour=time[0]\n",
        "  di[hour]=di.get(hour,0)+1\n",
        "  lst=list()\n",
        "  for k,v in di.items():\n",
        "    tup=(k,v)\n",
        "    lst.append(tup)\n",
        "  lst=sorted(lst)\n",
        "\n",
        "for k,v in lst:\n",
        "  print(k,v)"
      ],
      "metadata": {
        "id": "MBc8v9Aejd_t",
        "colab": {
          "base_uri": "https://localhost:8080/"
        },
        "outputId": "f099bd97-aa2d-4b9d-8a0c-66f54e5a3404"
      },
      "execution_count": null,
      "outputs": [
        {
          "output_type": "stream",
          "name": "stdout",
          "text": [
            "04 3\n",
            "06 1\n",
            "07 1\n",
            "09 2\n",
            "10 3\n",
            "11 6\n",
            "14 1\n",
            "15 2\n",
            "16 4\n",
            "17 2\n",
            "18 1\n",
            "19 1\n"
          ]
        }
      ]
    },
    {
      "cell_type": "markdown",
      "source": [
        "**Exercise 3: Write a program that reads a file and prints the letters\n",
        "in decreasing order of frequency. Your program should convert all the\n",
        "input to lower case and only count the letters a-z. Your program should\n",
        "not count spaces, digits, punctuation, or anything other than the letters\n",
        "a-z. Find text samples from several different languages and see how\n",
        "letter frequency varies between languages. Compare your results with\n",
        "the tables at** https://wikipedia.org/wiki/Letter_frequencies."
      ],
      "metadata": {
        "id": "mlcC0LFljefR"
      }
    },
    {
      "cell_type": "code",
      "source": [
        "fhand=open('words.txt')\n",
        "text=fhand.read()\n",
        "di=dict()\n",
        "lst=list()\n",
        "letter='abcdefghijklmnopqrstuvwxyz'\n",
        "for t in text.lower():\n",
        "  if t in letter:\n",
        "    di[t]=di.get(t,0)+1\n",
        "for k,v in di.items():\n",
        "  tup=(v,k)\n",
        "  hrs=lst.append(tup)\n",
        "lst=sorted(lst,reverse=True)\n",
        "for v,k in lst:\n",
        "  print(k,v)"
      ],
      "metadata": {
        "id": "N2VLtSR4lCXT",
        "colab": {
          "base_uri": "https://localhost:8080/"
        },
        "outputId": "0c7501b4-b056-4b44-bece-790e7dd68b70"
      },
      "execution_count": 9,
      "outputs": [
        {
          "output_type": "stream",
          "name": "stdout",
          "text": [
            "o 91\n",
            "e 89\n",
            "t 82\n",
            "n 72\n",
            "a 70\n",
            "r 59\n",
            "s 58\n",
            "i 57\n",
            "u 45\n",
            "l 40\n",
            "h 35\n",
            "m 30\n",
            "w 29\n",
            "g 28\n",
            "d 28\n",
            "p 23\n",
            "y 21\n",
            "f 21\n",
            "c 21\n",
            "k 16\n",
            "v 13\n",
            "b 10\n",
            "x 3\n",
            "q 1\n"
          ]
        }
      ]
    },
    {
      "cell_type": "code",
      "source": [
        ""
      ],
      "metadata": {
        "id": "WTJ9lfImA_ph"
      },
      "execution_count": null,
      "outputs": []
    }
  ]
}