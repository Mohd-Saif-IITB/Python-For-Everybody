{
  "nbformat": 4,
  "nbformat_minor": 0,
  "metadata": {
    "colab": {
      "name": "Chapter_3(Conditional Execution).ipynb",
      "provenance": [],
      "collapsed_sections": [],
      "authorship_tag": "ABX9TyNuT1BT+ezfILPXf3zvOh7E",
      "include_colab_link": true
    },
    "kernelspec": {
      "name": "python3",
      "display_name": "Python 3"
    },
    "language_info": {
      "name": "python"
    }
  },
  "cells": [
    {
      "cell_type": "markdown",
      "metadata": {
        "id": "view-in-github",
        "colab_type": "text"
      },
      "source": [
        "<a href=\"https://colab.research.google.com/github/Mohd-Saif-IITB/Python-For-Everybody/blob/main/Chapter_3(Conditional_Execution).ipynb\" target=\"_parent\"><img src=\"https://colab.research.google.com/assets/colab-badge.svg\" alt=\"Open In Colab\"/></a>"
      ]
    },
    {
      "cell_type": "markdown",
      "source": [
        "**Exercise 1: Rewrite your pay computation to give the employee 1.5\n",
        "times the hourly rate for hours worked above 40 hours.**\n",
        "\n",
        "Enter Hours: 45\n",
        "\n",
        "Enter Rate: 10\n",
        "\n",
        "Pay: 475.0"
      ],
      "metadata": {
        "id": "xMYawbv12C37"
      }
    },
    {
      "cell_type": "code",
      "source": [
        "hrs=input('Enter Hours:')\n",
        "rte=input('Enter Rate:')\n",
        "hours=float(hrs)\n",
        "rate=float(rte)\n",
        "if hours<=40:\n",
        "  pay=hours*rate\n",
        "else:\n",
        "  extra=(hours-40)*1.5*rate\n",
        "  pay=(40*rate)+extra\n",
        "print('Pay:',pay)"
      ],
      "metadata": {
        "colab": {
          "base_uri": "https://localhost:8080/"
        },
        "id": "o401difZ3FXF",
        "outputId": "a0ac177e-18dc-44c3-947c-bb24eaecd5d5"
      },
      "execution_count": null,
      "outputs": [
        {
          "output_type": "stream",
          "name": "stdout",
          "text": [
            "Enter Hours:45\n",
            "Enter Rate:10\n",
            "Pay: 475.0\n"
          ]
        }
      ]
    },
    {
      "cell_type": "markdown",
      "source": [
        "**Exercise 2: Rewrite your pay program using try and except so that your\n",
        "program handles non-numeric input gracefully by printing a message\n",
        "and exiting the program. The following shows two executions of the\n",
        "program:**\n",
        "\n",
        "Enter Hours: 20\n",
        "\n",
        "Enter Rate: nine\n",
        "\n",
        "Error, please enter numeric input\n",
        "\n",
        "Enter Hours: forty\n",
        "\n",
        "Error, please enter numeric input"
      ],
      "metadata": {
        "id": "EhO-im482fQ4"
      }
    },
    {
      "cell_type": "code",
      "source": [
        "hrs=input('Enter Hours:')\n",
        "try:\n",
        "  hours=float(hrs)\n",
        "except:\n",
        "  print('Error: please enter numeric input')\n",
        "  quit()\n",
        "\n",
        "rte=input('Enter Rate:')\n",
        "try:\n",
        "  rate=float(rte)\n",
        "except:\n",
        "  print('Error: please enter numeric input')\n",
        "  quit()\n",
        "\n",
        "if hours<=40:\n",
        "  pay=hours*rate\n",
        "else:\n",
        "  extra=(hours-40)*1.5*rate\n",
        "  pay=(40*rate)+extra\n",
        "print('Pay:',pay)"
      ],
      "metadata": {
        "id": "e6huKVJZ4wo9"
      },
      "execution_count": null,
      "outputs": []
    },
    {
      "cell_type": "markdown",
      "source": [
        ""
      ],
      "metadata": {
        "id": "iBIYWP4w2i3t"
      }
    }
  ]
}