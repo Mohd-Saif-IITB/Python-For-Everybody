{
  "nbformat": 4,
  "nbformat_minor": 0,
  "metadata": {
    "colab": {
      "name": "Chapter_9(Dictionaries).ipynb",
      "provenance": [],
      "collapsed_sections": [],
      "authorship_tag": "ABX9TyMUz0bheTivvTdNeRnIoKSG",
      "include_colab_link": true
    },
    "kernelspec": {
      "name": "python3",
      "display_name": "Python 3"
    },
    "language_info": {
      "name": "python"
    }
  },
  "cells": [
    {
      "cell_type": "markdown",
      "metadata": {
        "id": "view-in-github",
        "colab_type": "text"
      },
      "source": [
        "<a href=\"https://colab.research.google.com/github/Mohd-Saif-IITB/Python-For-Everybody/blob/main/Chapter_9(Dictionaries).ipynb\" target=\"_parent\"><img src=\"https://colab.research.google.com/assets/colab-badge.svg\" alt=\"Open In Colab\"/></a>"
      ]
    },
    {
      "cell_type": "markdown",
      "source": [
        "**Exercise 1: Download a copy of the file www.py4e.com/code3/words.txt\n",
        "Write a program that reads the words in words.txt and stores them as\n",
        "keys in a dictionary. It doesn’t matter what the values are. Then you\n",
        "can use the in operator as a fast way to check whether a string is in the\n",
        "dictionary.**"
      ],
      "metadata": {
        "id": "y7QgxwPAfa49"
      }
    },
    {
      "cell_type": "code",
      "source": [
        "fhand=open('words.txt','r')\n",
        "di=dict()\n",
        "for line in fhand:\n",
        "  words=line.split()\n",
        "  for w in words:\n",
        "    di[w]=di.get(w,0)+1\n",
        "print(di)\n",
        "str()in di # to check string in dictionary"
      ],
      "metadata": {
        "colab": {
          "base_uri": "https://localhost:8080/"
        },
        "id": "6_xsg4pAfpDF",
        "outputId": "3cad95e2-8fe1-4060-d385-81170a322495"
      },
      "execution_count": null,
      "outputs": [
        {
          "output_type": "stream",
          "name": "stdout",
          "text": [
            "{'Writing': 1, 'programs': 2, 'or': 1, 'programming': 1, 'is': 2, 'a': 3, 'very': 2, 'creative': 1, 'and': 5, 'rewarding': 1, 'activity': 1, 'You': 1, 'can': 4, 'write': 1, 'for': 1, 'many': 2, 'reasons': 1, 'ranging': 2, 'from': 2, 'making': 1, 'your': 2, 'living': 1, 'to': 16, 'solving': 1, 'difficult': 1, 'data': 1, 'analysis': 1, 'problem': 2, 'having': 1, 'fun': 1, 'helping': 1, 'someone': 1, 'else': 1, 'solve': 1, 'This': 1, 'book': 1, 'assumes': 1, 'that': 4, '{\\\\em': 1, 'everyone}': 1, 'needs': 1, 'know': 2, 'how': 2, 'program': 1, 'once': 1, 'you': 4, 'program,': 1, 'will': 1, 'figure': 1, 'out': 1, 'what': 2, 'want': 1, 'do': 5, 'with': 2, 'newfound': 1, 'skills': 1, 'We': 2, 'are': 3, 'surrounded': 1, 'in': 2, 'our': 5, 'daily': 1, 'lives': 1, 'computers': 5, 'laptops': 1, 'cell': 1, 'phones': 1, 'think': 1, 'of': 5, 'these': 1, 'as': 1, 'personal': 1, 'assistants': 1, 'who': 1, 'take': 1, 'care': 1, 'things': 3, 'on': 2, 'behalf': 2, 'The': 1, 'hardware': 1, 'current-day': 1, 'essentially': 1, 'built': 1, 'continuously': 1, 'ask': 1, 'us': 2, 'the': 6, 'question': 1, 'What': 1, 'would': 2, 'like': 2, 'me': 1, 'next': 2, 'Our': 1, 'fast': 1, 'have': 1, 'vasts': 1, 'amounts': 1, 'memory': 1, 'could': 2, 'be': 1, 'helpful': 1, 'if': 1, 'we': 5, 'only': 1, 'knew': 2, 'language': 2, 'speak': 1, 'explain': 1, 'computer': 2, 'it': 1, 'If': 1, 'this': 1, 'tell': 1, 'tasks': 1, 'were': 1, 'reptitive': 1, 'Interestingly,': 1, 'kinds': 2, 'best': 1, 'often': 1, 'humans': 1, 'find': 1, 'boring': 1, 'mind-numbing': 1}\n"
          ]
        },
        {
          "output_type": "execute_result",
          "data": {
            "text/plain": [
              "False"
            ]
          },
          "metadata": {},
          "execution_count": 8
        }
      ]
    },
    {
      "cell_type": "markdown",
      "source": [
        "**Exercise 2: Write a program that categorizes each mail message by\n",
        "which day of the week the commit was done. To do this look for lines\n",
        "that start with “From”, then look for the third word and keep a running\n",
        "count of each of the days of the week. At the end of the program print\n",
        "out the contents of your dictionary (order does not matter).**\n",
        "\n",
        "Sample Line:\n",
        "\n",
        "From stephen.marquard@uct.ac.za Sat Jan 5 09:14:16 2008\n",
        "\n",
        "Sample Execution:\n",
        "\n",
        "python dow.py\n",
        "\n",
        "Enter a file name: mbox-short.txt\n",
        "\n",
        "{'Fri': 20, 'Thu': 6, 'Sat': 1}"
      ],
      "metadata": {
        "id": "cArC7-S0fp97"
      }
    },
    {
      "cell_type": "code",
      "source": [
        "fname=input('Enter a file name:')\n",
        "fhand=open(fname,'r')\n",
        "di=dict()\n",
        "\n",
        "for line in fhand:\n",
        "  line=line.strip()\n",
        "  words=line.split()\n",
        "  if len(words)<3 or words[0]!='From': # guardian\n",
        "    continue\n",
        "  day=words[2]\n",
        "  di[day]=di.get(day,0)+1\n",
        "\n",
        "print(di)   "
      ],
      "metadata": {
        "colab": {
          "base_uri": "https://localhost:8080/"
        },
        "id": "opYPklt1f-yx",
        "outputId": "de37354c-c77c-484a-8b17-5704fa6bc636"
      },
      "execution_count": null,
      "outputs": [
        {
          "output_type": "stream",
          "name": "stdout",
          "text": [
            "Enter a file name:mbox-short.txt\n",
            "{'Sat': 1, 'Fri': 20, 'Thu': 6}\n"
          ]
        }
      ]
    },
    {
      "cell_type": "markdown",
      "source": [
        "**Exercise 3: Write a program to read through a mail log, build a his-\n",
        "togram using a dictionary to count how many messages have come from\n",
        "each email address, and print the dictionary.**\n",
        "\n",
        "Enter file name: mbox-short.txt\n",
        "\n",
        "{'gopal.ramasammycook@gmail.com': 1, 'louis@media.berkeley.edu': 3,\n",
        "'cwen@iupui.edu': 5, 'antranig@caret.cam.ac.uk': 1,\n",
        "'rjlowe@iupui.edu': 2, 'gsilver@umich.edu': 3,\n",
        "'david.horwitz@uct.ac.za': 4, 'wagnermr@iupui.edu': 1,\n",
        "'zqian@umich.edu': 4, 'stephen.marquard@uct.ac.za': 2,\n",
        "'ray@media.berkeley.edu': 1}"
      ],
      "metadata": {
        "id": "x_OqvGW3f_VX"
      }
    },
    {
      "cell_type": "code",
      "source": [
        "fname=input('Enter file name:')\n",
        "fhand=open(fname,'r')\n",
        "di=dict()\n",
        "\n",
        "for line in fhand:\n",
        "  line=line.strip()\n",
        "  word=line.split()\n",
        "  if len(word)<2 or word[0]!='From':\n",
        "    continue\n",
        "  person=word[1]\n",
        "  di[person]=di.get(person,0)+1\n",
        "\n",
        "print(di)"
      ],
      "metadata": {
        "colab": {
          "base_uri": "https://localhost:8080/"
        },
        "id": "7jiMw_orgLGX",
        "outputId": "1c4a8264-65f4-464b-d4c9-e2b564bd83f0"
      },
      "execution_count": null,
      "outputs": [
        {
          "output_type": "stream",
          "name": "stdout",
          "text": [
            "Enter file name:mbox-short.txt\n",
            "{'stephen.marquard@uct.ac.za': 2, 'louis@media.berkeley.edu': 3, 'zqian@umich.edu': 4, 'rjlowe@iupui.edu': 2, 'cwen@iupui.edu': 5, 'gsilver@umich.edu': 3, 'wagnermr@iupui.edu': 1, 'antranig@caret.cam.ac.uk': 1, 'gopal.ramasammycook@gmail.com': 1, 'david.horwitz@uct.ac.za': 4, 'ray@media.berkeley.edu': 1}\n"
          ]
        }
      ]
    },
    {
      "cell_type": "markdown",
      "source": [
        "**Exercise 4: Add code to the above program to figure out who has the\n",
        "most messages in the file. After all the data has been read and the dic-\n",
        "tionary has been created, look through the dictionary using a maximum\n",
        "loop (see Chapter 5: Maximum and minimum loops) to find who has\n",
        "the most messages and print how many messages the person has.**\n",
        "\n",
        "Enter a file name: mbox-short.txt\n",
        "\n",
        "cwen@iupui.edu 5\n",
        "\n",
        "Enter a file name: mbox.txt\n",
        "\n",
        "zqian@umich.edu 195"
      ],
      "metadata": {
        "id": "VOaipEMAgNMt"
      }
    },
    {
      "cell_type": "code",
      "source": [
        "fname=input('Enter file name:')\n",
        "fhand=open(fname,'r')\n",
        "di=dict()\n",
        "\n",
        "for line in fhand:\n",
        "  line=line.strip()\n",
        "  word=line.split()\n",
        "  if len(word)<2 or word[0]!='From':\n",
        "    continue\n",
        "  person=word[1]\n",
        "  di[person]=di.get(person,0)+1\n",
        "\n",
        "largest=-1\n",
        "mostcommon=None\n",
        "for k,v in di.items():\n",
        "  if v>largest:\n",
        "    largest=v\n",
        "    mostcommon=k #capture/remember the key that was largest\n",
        "print(mostcommon,largest)"
      ],
      "metadata": {
        "colab": {
          "base_uri": "https://localhost:8080/"
        },
        "id": "JYgokkBWHfdu",
        "outputId": "7814b79b-4b84-4334-924d-b40116000740"
      },
      "execution_count": null,
      "outputs": [
        {
          "output_type": "stream",
          "name": "stdout",
          "text": [
            "Enter file name:mbox.txt\n",
            "zqian@umich.edu 195\n"
          ]
        }
      ]
    },
    {
      "cell_type": "markdown",
      "source": [
        "**Exercise 5: This program records the domain name (instead of the\n",
        "address) where the message was sent from instead of who the mail came\n",
        "from (i.e., the whole email address). At the end of the program, print\n",
        "out the contents of your dictionary.**\n",
        "\n",
        "python schoolcount.py\n",
        "\n",
        "Enter a file name: mbox-short.txt\n",
        "\n",
        "{'media.berkeley.edu': 4, 'uct.ac.za': 6, 'umich.edu': 7,\n",
        "'gmail.com': 1, 'caret.cam.ac.uk': 1, 'iupui.edu': 8}"
      ],
      "metadata": {
        "id": "x53f-Pe-gS1x"
      }
    },
    {
      "cell_type": "code",
      "source": [
        "fname=input('Enter a file name:')\n",
        "fhand=open(fname,'r')\n",
        "di=dict()\n",
        "\n",
        "for line in fhand:\n",
        "  line=line.strip()\n",
        "  word=line.split()\n",
        "  \n",
        "  if line.startswith('From '): # in 'From' there is a space after'm'\n",
        "    # print(line)\n",
        "    atpos=line.find('@')\n",
        "    sppos=line.find(' ',atpos)\n",
        "    \n",
        "    host=line[atpos+1:sppos]\n",
        "    # print(host)\n",
        "    di[host]=di.get(host,0)+1\n",
        "print(di)"
      ],
      "metadata": {
        "colab": {
          "base_uri": "https://localhost:8080/"
        },
        "id": "5wy16YuqHO9o",
        "outputId": "bd9d41ce-17de-410c-e642-34803ae2a55c"
      },
      "execution_count": null,
      "outputs": [
        {
          "output_type": "stream",
          "name": "stdout",
          "text": [
            "Enter a file name:mbox-short.txt\n",
            "{'uct.ac.za': 6, 'media.berkeley.edu': 4, 'umich.edu': 7, 'iupui.edu': 8, 'caret.cam.ac.uk': 1, 'gmail.com': 1}\n"
          ]
        }
      ]
    },
    {
      "cell_type": "code",
      "source": [
        ""
      ],
      "metadata": {
        "id": "OMVvs3EcMkLz"
      },
      "execution_count": null,
      "outputs": []
    }
  ]
}