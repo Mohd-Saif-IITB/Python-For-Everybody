{
  "nbformat": 4,
  "nbformat_minor": 0,
  "metadata": {
    "colab": {
      "name": "Chapter_7(Files).ipynb",
      "provenance": [],
      "collapsed_sections": [],
      "authorship_tag": "ABX9TyOOhL99bj2Y4bp3h8hQOm/8",
      "include_colab_link": true
    },
    "kernelspec": {
      "name": "python3",
      "display_name": "Python 3"
    },
    "language_info": {
      "name": "python"
    }
  },
  "cells": [
    {
      "cell_type": "markdown",
      "metadata": {
        "id": "view-in-github",
        "colab_type": "text"
      },
      "source": [
        "<a href=\"https://colab.research.google.com/github/Mohd-Saif-IITB/Python-For-Everybody/blob/main/Chapter_7(Files).ipynb\" target=\"_parent\"><img src=\"https://colab.research.google.com/assets/colab-badge.svg\" alt=\"Open In Colab\"/></a>"
      ]
    },
    {
      "cell_type": "markdown",
      "source": [
        "**Exercise 1: Write a program to read through a file and print the contents\n",
        "of the file (line by line) all in upper case. Executing the program will\n",
        "look as follows:**\n",
        "\n",
        "python shout.py\n",
        "\n",
        "Enter a file name: mbox-short.txt\n",
        "\n",
        "FROM STEPHEN.MARQUARD@UCT.AC.ZA SAT JAN 5 09:14:16 2008\n",
        "\n",
        "RETURN-PATH: <POSTMASTER@COLLAB.SAKAIPROJECT.ORG>\n",
        "\n",
        "RECEIVED: FROM MURDER (MAIL.UMICH.EDU [141.211.14.90])\n",
        "\n",
        "BY FRANKENSTEIN.MAIL.UMICH.EDU (CYRUS V2.3.8) WITH LMTPA;\n",
        "\n",
        "SAT, 05 JAN 2008 09:14:16 -0500\n",
        "\n",
        "You can download the file from www.py4e.com/code3/mbox-short.txt"
      ],
      "metadata": {
        "id": "ATxYPBvyvJTy"
      }
    },
    {
      "cell_type": "code",
      "source": [
        "fname=input('Enter a file name:') #upload the file to session storage and enter that name here\n",
        "fhandle=open(fname)\n",
        "fread=fhandle.read()\n",
        "print(str.upper(fread))"
      ],
      "metadata": {
        "colab": {
          "base_uri": "https://localhost:8080/"
        },
        "id": "InN1hfBavbEm",
        "outputId": "e4809d12-122f-496c-a548-544c86c25e37"
      },
      "execution_count": null,
      "outputs": [
        {
          "output_type": "stream",
          "name": "stdout",
          "text": [
            "Enter a file name:mbox-short1.txt\n",
            "FROM STEPHEN.MARQUARD@UCT.AC.ZA SAT JAN  5 09:14:16 2008\n",
            "RETURN-PATH: <POSTMASTER@COLLAB.SAKAIPROJECT.ORG>\n",
            "RECEIVED: FROM MURDER (MAIL.UMICH.EDU [141.211.14.90])\n",
            "\t BY FRANKENSTEIN.MAIL.UMICH.EDU (CYRUS V2.3.8) WITH LMTPA;\n",
            "\t SAT, 05 JAN 2008 09:14:16 -0500\n"
          ]
        }
      ]
    },
    {
      "cell_type": "markdown",
      "source": [
        "**Exercise 2: Write a program to prompt for a file name, and then read\n",
        "through the file and look for lines of the form:**\n",
        "\n",
        "X-DSPAM-Confidence: 0.8475\n",
        "\n",
        "When you encounter a line that starts with “X-DSPAM-Confidence:”\n",
        "pull apart the line to extract the floating-point number on the line.\n",
        "Count these lines and then compute the total of the spam confidence\n",
        "values from these lines. When you reach the end of the file, print out\n",
        "the average spam confidence.\n",
        "\n",
        "Enter the file name: mbox.txt\n",
        "\n",
        "Average spam confidence: 0.894128046745\n",
        "\n",
        "Enter the file name: mbox-short.txt\n",
        "\n",
        "Average spam confidence: 0.750718518519\n",
        "\n",
        "Test your file on the mbox.txt and mbox-short.txt files."
      ],
      "metadata": {
        "id": "W5rRmj7u87Hv"
      }
    },
    {
      "cell_type": "code",
      "source": [
        "fname=input('Enter the file name:') # upload the files in session storage first and give the name here\n",
        "fhand=open(fname,'r') #'r' means to read the file\n",
        "count=0\n",
        "sum=0\n",
        "for line in fhand:\n",
        "  if line.startswith('X-DSPAM-Confidence:'):\n",
        "    index=line.find(' ') \n",
        "    spam=line[index+1:]\n",
        "    num=float(spam)\n",
        "    sum=sum+num\n",
        "    count=count+1\n",
        "    avg=sum/count\n",
        "print('Average spam confidence:',avg)\n"
      ],
      "metadata": {
        "colab": {
          "base_uri": "https://localhost:8080/"
        },
        "id": "o2tc_uNA-XG4",
        "outputId": "f6c05b05-a9e2-470b-94e6-b4a1e2442b10"
      },
      "execution_count": null,
      "outputs": [
        {
          "output_type": "stream",
          "name": "stdout",
          "text": [
            "Enter the file name:mbox.txt\n",
            "Average spam confidence: 0.8941280467445736\n"
          ]
        }
      ]
    },
    {
      "cell_type": "markdown",
      "source": [
        "**Exercise 3: Sometimes when programmers get bored or want to have a\n",
        "bit of fun, they add a harmless Easter Egg to their program. Modify\n",
        "the program that prompts the user for the file name so that it prints a\n",
        "funny message when the user types in the exact file name “na na boo\n",
        "boo”. The program should behave normally for all other files which\n",
        "exist and don’t exist. Here is a sample execution of the program:**\n",
        "\n",
        "python egg.py\n",
        "\n",
        "Enter the file name: mbox.txt\n",
        "\n",
        "There were 1797 subject lines in mbox.txt\n",
        "\n",
        "python egg.py\n",
        "\n",
        "Enter the file name: missing.tyxt\n",
        "\n",
        "File cannot be opened: missing.tyxt\n",
        "\n",
        "python egg.py\n",
        "\n",
        "Enter the file name: na na boo boo\n",
        "\n",
        "NA NA BOO BOO TO YOU - You have been punk'd!\n",
        "\n",
        "We are not encouraging you to put Easter Eggs in your programs; this\n",
        "is just an exercise."
      ],
      "metadata": {
        "id": "bj8T25YuKmaK"
      }
    },
    {
      "cell_type": "code",
      "source": [
        "fname=input('Enter the file name:')\n",
        "if fname == 'na na boo boo':\n",
        "  print(fname.upper(),\"TO YOU-You have been punk'd!\")\n",
        "elif fname.endswith('.txt'):\n",
        "  fhand=open(fname, 'r')\n",
        "  count=0\n",
        "  for line in fhand:\n",
        "    if line.startswith('Subject:'):\n",
        "      count+=1\n",
        "  print('There were',count, 'Subject lines in',fname)\n",
        "else:\n",
        "  print('File cannot be opened:',fname)\n",
        "  "
      ],
      "metadata": {
        "colab": {
          "base_uri": "https://localhost:8080/"
        },
        "id": "E8zHjmiqLBUF",
        "outputId": "6bb06f21-ebd5-4e10-e7a2-32ddbfa04653"
      },
      "execution_count": null,
      "outputs": [
        {
          "output_type": "stream",
          "name": "stdout",
          "text": [
            "Enter the file name:na na boo boo\n",
            "NA NA BOO BOO TO YOU-You have been punk'd!\n"
          ]
        }
      ]
    }
  ]
}